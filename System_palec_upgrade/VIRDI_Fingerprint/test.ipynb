{
 "cells": [
  {
   "cell_type": "code",
   "execution_count": 3,
   "metadata": {},
   "outputs": [
    {
     "name": "stdout",
     "output_type": "stream",
     "text": [
      "Backend libusb działa poprawnie!\n"
     ]
    }
   ],
   "source": [
    "import usb.backend.libusb1\n",
    "\n",
    "# Wykryj backend libusb\n",
    "backend = usb.backend.libusb1.get_backend()\n",
    "if backend is None:\n",
    "    print(\"Backend libusb nie jest dostępny.\")\n",
    "else:\n",
    "    print(\"Backend libusb działa poprawnie!\")\n"
   ]
  },
  {
   "cell_type": "code",
   "execution_count": 2,
   "metadata": {},
   "outputs": [
    {
     "name": "stdout",
     "output_type": "stream",
     "text": [
      "Lista urządzeń USB:\n",
      "ID Vendor: 0x256c | ID Product: 0x6e\n",
      "ID Vendor: 0x1866 | ID Product: 0xa034\n",
      "ID Vendor: 0x46d | ID Product: 0xc339\n",
      "ID Vendor: 0x46d | ID Product: 0xaaa\n",
      "ID Vendor: 0x46d | ID Product: 0xc539\n",
      "ID Vendor: 0x10de | ID Product: 0x1aec\n",
      "ID Vendor: 0x1235 | ID Product: 0x8211\n",
      "ID Vendor: 0x1a40 | ID Product: 0x101\n",
      "ID Vendor: 0x1a40 | ID Product: 0x101\n",
      "ID Vendor: 0x8086 | ID Product: 0xa2af\n"
     ]
    }
   ],
   "source": [
    "import usb.core\n",
    "import usb.util\n",
    "\n",
    "# Wyszukanie wszystkich urządzeń USB\n",
    "devices = list(usb.core.find(find_all=True))\n",
    "\n",
    "print(\"Lista urządzeń USB:\")\n",
    "for device in devices:\n",
    "    print(f\"ID Vendor: {hex(device.idVendor)} | ID Product: {hex(device.idProduct)}\")\n"
   ]
  },
  {
   "cell_type": "code",
   "execution_count": 4,
   "metadata": {},
   "outputs": [
    {
     "name": "stdout",
     "output_type": "stream",
     "text": [
      "Urządzenie znalezione: DEVICE ID 1866:a034 on Bus 002 Address 010 =================\n",
      " bLength                :   0x12 (18 bytes)\n",
      " bDescriptorType        :    0x1 Device\n",
      " bcdUSB                 :  0x200 USB 2.0\n",
      " bDeviceClass           :    0x0 Specified at interface\n",
      " bDeviceSubClass        :    0x0\n",
      " bDeviceProtocol        :   0x50\n",
      " bMaxPacketSize0        :   0x40 (64 bytes)\n",
      " idVendor               : 0x1866\n",
      " idProduct              : 0xa034\n",
      " bcdDevice              :    0x0 Device 0.0\n",
      " iManufacturer          :    0x1 UNION COMMUNITY\n",
      " iProduct               :    0x2 FOH02CSC\n",
      " iSerialNumber          :    0x3 V30.3\n",
      " bNumConfigurations     :    0x1\n",
      "  CONFIGURATION 1: 100 mA ==================================\n",
      "   bLength              :    0x9 (9 bytes)\n",
      "   bDescriptorType      :    0x2 Configuration\n",
      "   wTotalLength         :   0x20 (32 bytes)\n",
      "   bNumInterfaces       :    0x1\n",
      "   bConfigurationValue  :    0x1\n",
      "   iConfiguration       :    0x0 \n",
      "   bmAttributes         :   0x80 Bus Powered\n",
      "   bMaxPower            :   0x32 (100 mA)\n",
      "    INTERFACE 0: Vendor Specific ===========================\n",
      "     bLength            :    0x9 (9 bytes)\n",
      "     bDescriptorType    :    0x4 Interface\n",
      "     bInterfaceNumber   :    0x0\n",
      "     bAlternateSetting  :    0x0\n",
      "     bNumEndpoints      :    0x2\n",
      "     bInterfaceClass    :   0xff Vendor Specific\n",
      "     bInterfaceSubClass :    0x0\n",
      "     bInterfaceProtocol :    0x0\n",
      "     iInterface         :    0x0 \n",
      "      ENDPOINT 0x86: Bulk IN ===============================\n",
      "       bLength          :    0x7 (7 bytes)\n",
      "       bDescriptorType  :    0x5 Endpoint\n",
      "       bEndpointAddress :   0x86 IN\n",
      "       bmAttributes     :    0x2 Bulk\n",
      "       wMaxPacketSize   :  0x200 (512 bytes)\n",
      "       bInterval        :    0x0\n",
      "      ENDPOINT 0x2: Bulk OUT ===============================\n",
      "       bLength          :    0x7 (7 bytes)\n",
      "       bDescriptorType  :    0x5 Endpoint\n",
      "       bEndpointAddress :    0x2 OUT\n",
      "       bmAttributes     :    0x2 Bulk\n",
      "       wMaxPacketSize   :  0x200 (512 bytes)\n",
      "       bInterval        :    0x0\n"
     ]
    }
   ],
   "source": [
    "import usb.core\n",
    "import usb.util\n",
    "\n",
    "# Ustaw Vendor ID i Product ID\n",
    "VENDOR_ID = 0x1866\n",
    "PRODUCT_ID = 0xa034\n",
    "\n",
    "# Znajdź urządzenie\n",
    "device = usb.core.find(idVendor=VENDOR_ID, idProduct=PRODUCT_ID)\n",
    "\n",
    "if device is None:\n",
    "    print(\"Nie znaleziono urządzenia.\")\n",
    "    exit()\n",
    "else:\n",
    "    print(\"Urządzenie znalezione:\", device)\n"
   ]
  },
  {
   "cell_type": "code",
   "execution_count": 5,
   "metadata": {},
   "outputs": [
    {
     "name": "stdout",
     "output_type": "stream",
     "text": [
      "Konfiguracja urządzenia ustawiona pomyślnie!\n"
     ]
    }
   ],
   "source": [
    "import usb.core\n",
    "import usb.util\n",
    "\n",
    "# Ustaw Vendor ID i Product ID\n",
    "VENDOR_ID = 0x1866\n",
    "PRODUCT_ID = 0xa034\n",
    "\n",
    "# Znajdź urządzenie\n",
    "device = usb.core.find(idVendor=VENDOR_ID, idProduct=PRODUCT_ID)\n",
    "\n",
    "if device is None:\n",
    "    print(\"Nie znaleziono urządzenia.\")\n",
    "    exit()\n",
    "\n",
    "# Ustawienie konfiguracji\n",
    "try:\n",
    "    device.set_configuration()\n",
    "    print(\"Konfiguracja urządzenia ustawiona pomyślnie!\")\n",
    "except usb.core.USBError as e:\n",
    "    print(f\"Błąd konfiguracji urządzenia: {e}\")\n"
   ]
  },
  {
   "cell_type": "code",
   "execution_count": 6,
   "metadata": {},
   "outputs": [
    {
     "name": "stdout",
     "output_type": "stream",
     "text": [
      "Lista endpointów urządzenia:\n",
      "Endpoint Address: 0x86, Attributes: 0x2, Max Packet Size: 512\n",
      "Endpoint Address: 0x2, Attributes: 0x2, Max Packet Size: 512\n"
     ]
    }
   ],
   "source": [
    "# Pobierz konfigurację urządzenia\n",
    "cfg = device.get_active_configuration()\n",
    "intf = cfg[(0, 0)]  # Pierwsza konfiguracja, pierwsza alternatywna konfiguracja\n",
    "\n",
    "print(\"Lista endpointów urządzenia:\")\n",
    "for endpoint in intf:\n",
    "    print(f\"Endpoint Address: {hex(endpoint.bEndpointAddress)}, Attributes: {hex(endpoint.bmAttributes)}, Max Packet Size: {endpoint.wMaxPacketSize}\")\n"
   ]
  },
  {
   "cell_type": "code",
   "execution_count": 8,
   "metadata": {},
   "outputs": [
    {
     "name": "stdout",
     "output_type": "stream",
     "text": [
      "Błąd odczytu danych: [Errno 10060] Operation timed out\n"
     ]
    }
   ],
   "source": [
    "try:\n",
    "    # Odczyt danych z endpointu IN\n",
    "    endpoint_in = 0x86  # Endpoint IN\n",
    "    data = device.read(endpoint_in, 512, timeout=5000)  # 512 bajtów (wMaxPacketSize)\n",
    "    print(\"Dane odczytane z urządzenia:\", data)\n",
    "except usb.core.USBError as e:\n",
    "    print(f\"Błąd odczytu danych: {e}\")\n"
   ]
  },
  {
   "cell_type": "code",
   "execution_count": 9,
   "metadata": {},
   "outputs": [
    {
     "name": "stdout",
     "output_type": "stream",
     "text": [
      "Dane wysłane do urządzenia!\n"
     ]
    }
   ],
   "source": [
    "try:\n",
    "    # Wysyłanie danych na endpoint OUT (0x02)\n",
    "    endpoint_out = 0x02\n",
    "    data_to_send = [0x00, 0x01, 0x02, 0x03]  # Przykładowe dane - wymaga znajomości protokołu urządzenia\n",
    "    device.write(endpoint_out, data_to_send, timeout=5000)\n",
    "    print(\"Dane wysłane do urządzenia!\")\n",
    "except usb.core.USBError as e:\n",
    "    print(f\"Błąd wysyłania danych: {e}\")\n"
   ]
  },
  {
   "cell_type": "code",
   "execution_count": 10,
   "metadata": {},
   "outputs": [
    {
     "name": "stdout",
     "output_type": "stream",
     "text": [
      "Błąd odczytu danych: [Errno 10060] Operation timed out\n"
     ]
    }
   ],
   "source": [
    "try:\n",
    "    # Odczyt danych z endpointu IN (0x86)\n",
    "    endpoint_in = 0x86  # Endpoint IN\n",
    "    data = device.read(endpoint_in, 512, timeout=5000)  # 512 bajtów (wMaxPacketSize)\n",
    "    print(\"Dane odczytane z urządzenia:\", data)\n",
    "except usb.core.USBError as e:\n",
    "    print(f\"Błąd odczytu danych: {e}\")\n"
   ]
  },
  {
   "cell_type": "code",
   "execution_count": 11,
   "metadata": {},
   "outputs": [
    {
     "name": "stdout",
     "output_type": "stream",
     "text": [
      "Nowe dane wysłane do urządzenia!\n"
     ]
    }
   ],
   "source": [
    "try:\n",
    "    # Wysyłanie innej sekwencji na endpoint OUT\n",
    "    endpoint_out = 0x02\n",
    "    data_to_send = [0x00]  # Spróbuj wysłać jedynie 0x00\n",
    "    device.write(endpoint_out, data_to_send, timeout=5000)\n",
    "    print(\"Nowe dane wysłane do urządzenia!\")\n",
    "except usb.core.USBError as e:\n",
    "    print(f\"Błąd wysyłania danych: {e}\")\n"
   ]
  },
  {
   "cell_type": "code",
   "execution_count": 12,
   "metadata": {},
   "outputs": [
    {
     "name": "stdout",
     "output_type": "stream",
     "text": [
      "Błąd wysyłania danych: [Errno 10060] Operation timed out\n"
     ]
    }
   ],
   "source": [
    "try:\n",
    "    # Wysyłanie innych testowych danych\n",
    "    endpoint_out = 0x02\n",
    "    data_to_send = [0x01]  # Inna testowa komenda\n",
    "    device.write(endpoint_out, data_to_send, timeout=5000)\n",
    "    print(\"Inne dane wysłane do urządzenia!\")\n",
    "except usb.core.USBError as e:\n",
    "    print(f\"Błąd wysyłania danych: {e}\")\n"
   ]
  }
 ],
 "metadata": {
  "kernelspec": {
   "display_name": "Python 3",
   "language": "python",
   "name": "python3"
  },
  "language_info": {
   "codemirror_mode": {
    "name": "ipython",
    "version": 3
   },
   "file_extension": ".py",
   "mimetype": "text/x-python",
   "name": "python",
   "nbconvert_exporter": "python",
   "pygments_lexer": "ipython3",
   "version": "3.12.1"
  }
 },
 "nbformat": 4,
 "nbformat_minor": 2
}
